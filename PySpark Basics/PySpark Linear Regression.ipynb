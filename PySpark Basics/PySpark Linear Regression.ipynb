{
 "cells": [
  {
   "cell_type": "code",
   "execution_count": 1,
   "id": "dc0f6cc2",
   "metadata": {},
   "outputs": [],
   "source": [
    "import pyspark"
   ]
  },
  {
   "cell_type": "code",
   "execution_count": 2,
   "id": "3f2ed24d",
   "metadata": {},
   "outputs": [],
   "source": [
    "from pyspark.sql import SparkSession"
   ]
  },
  {
   "cell_type": "code",
   "execution_count": 10,
   "id": "741ff069",
   "metadata": {},
   "outputs": [],
   "source": [
    "# creating spark session\n",
    "spark=SparkSession.builder.appName('Practice').getOrCreate()"
   ]
  },
  {
   "cell_type": "code",
   "execution_count": 11,
   "id": "0ce31350",
   "metadata": {},
   "outputs": [
    {
     "data": {
      "text/html": [
       "\n",
       "            <div>\n",
       "                <p><b>SparkSession - in-memory</b></p>\n",
       "                \n",
       "        <div>\n",
       "            <p><b>SparkContext</b></p>\n",
       "\n",
       "            <p><a href=\"http://192.168.1.44:4040\">Spark UI</a></p>\n",
       "\n",
       "            <dl>\n",
       "              <dt>Version</dt>\n",
       "                <dd><code>v3.2.1</code></dd>\n",
       "              <dt>Master</dt>\n",
       "                <dd><code>local[*]</code></dd>\n",
       "              <dt>AppName</dt>\n",
       "                <dd><code>Practice</code></dd>\n",
       "            </dl>\n",
       "        </div>\n",
       "        \n",
       "            </div>\n",
       "        "
      ],
      "text/plain": [
       "<pyspark.sql.session.SparkSession at 0x1d30bf47508>"
      ]
     },
     "execution_count": 11,
     "metadata": {},
     "output_type": "execute_result"
    }
   ],
   "source": [
    "spark"
   ]
  },
  {
   "cell_type": "code",
   "execution_count": 12,
   "id": "e3e2bcc9",
   "metadata": {},
   "outputs": [
    {
     "data": {
      "text/plain": [
       "DataFrame[Month: string, Passengers: int]"
      ]
     },
     "execution_count": 12,
     "metadata": {},
     "output_type": "execute_result"
    }
   ],
   "source": [
    "# importing dataframe in csv\n",
    "df_spark=spark.read.csv('AirPassengers.csv',header=True,inferSchema=True)\n",
    "df_spark"
   ]
  },
  {
   "cell_type": "code",
   "execution_count": 13,
   "id": "3d3477fe",
   "metadata": {},
   "outputs": [
    {
     "name": "stdout",
     "output_type": "stream",
     "text": [
      "+-------+----------+\n",
      "|  Month|Passengers|\n",
      "+-------+----------+\n",
      "|1949-01|       112|\n",
      "|1949-02|       118|\n",
      "|1949-03|       132|\n",
      "|1949-04|       134|\n",
      "|1949-05|       133|\n",
      "|1949-06|       135|\n",
      "|1949-07|       148|\n",
      "|1949-08|       148|\n",
      "|1949-09|       136|\n",
      "|1949-10|       119|\n",
      "|1949-11|       104|\n",
      "|1949-12|       118|\n",
      "|1950-01|       115|\n",
      "|1950-02|       126|\n",
      "|1950-03|       141|\n",
      "|1950-04|       135|\n",
      "|1950-05|       125|\n",
      "|1950-06|       149|\n",
      "|1950-07|       170|\n",
      "|1950-08|       170|\n",
      "+-------+----------+\n",
      "only showing top 20 rows\n",
      "\n"
     ]
    }
   ],
   "source": [
    "df_spark.show()"
   ]
  },
  {
   "cell_type": "code",
   "execution_count": 15,
   "id": "f25fc440",
   "metadata": {},
   "outputs": [],
   "source": [
    "from pyspark.sql.functions import to_date,month,year"
   ]
  },
  {
   "cell_type": "code",
   "execution_count": 16,
   "id": "242a7972",
   "metadata": {},
   "outputs": [],
   "source": [
    "# converting date columns of dattime time\n",
    "df_spark=df_spark.select(to_date(df_spark.Month, 'yyyy-MM').alias('Date'),'Passengers')"
   ]
  },
  {
   "cell_type": "code",
   "execution_count": 18,
   "id": "a1916ad6",
   "metadata": {},
   "outputs": [
    {
     "name": "stdout",
     "output_type": "stream",
     "text": [
      "+----------+----------+-----+----+\n",
      "|      Date|Passengers|Month|Year|\n",
      "+----------+----------+-----+----+\n",
      "|1949-01-01|       112|    1|1949|\n",
      "|1949-02-01|       118|    2|1949|\n",
      "|1949-03-01|       132|    3|1949|\n",
      "|1949-04-01|       134|    4|1949|\n",
      "|1949-05-01|       133|    5|1949|\n",
      "|1949-06-01|       135|    6|1949|\n",
      "|1949-07-01|       148|    7|1949|\n",
      "|1949-08-01|       148|    8|1949|\n",
      "|1949-09-01|       136|    9|1949|\n",
      "|1949-10-01|       119|   10|1949|\n",
      "|1949-11-01|       104|   11|1949|\n",
      "|1949-12-01|       118|   12|1949|\n",
      "|1950-01-01|       115|    1|1950|\n",
      "|1950-02-01|       126|    2|1950|\n",
      "|1950-03-01|       141|    3|1950|\n",
      "|1950-04-01|       135|    4|1950|\n",
      "|1950-05-01|       125|    5|1950|\n",
      "|1950-06-01|       149|    6|1950|\n",
      "|1950-07-01|       170|    7|1950|\n",
      "|1950-08-01|       170|    8|1950|\n",
      "+----------+----------+-----+----+\n",
      "only showing top 20 rows\n",
      "\n"
     ]
    }
   ],
   "source": [
    "# extracting  month and yer from date\n",
    "df_spark=df_spark.select('Date','Passengers',month(df_spark.Date).alias('Month'),year(df_spark.Date).alias('Year'))\n",
    "df_spark.show()"
   ]
  },
  {
   "cell_type": "code",
   "execution_count": 19,
   "id": "6ccb0eab",
   "metadata": {},
   "outputs": [
    {
     "name": "stdout",
     "output_type": "stream",
     "text": [
      "root\n",
      " |-- Date: date (nullable = true)\n",
      " |-- Passengers: integer (nullable = true)\n",
      " |-- Month: integer (nullable = true)\n",
      " |-- Year: integer (nullable = true)\n",
      "\n"
     ]
    }
   ],
   "source": [
    "df_spark.printSchema()"
   ]
  },
  {
   "cell_type": "code",
   "execution_count": 20,
   "id": "55b386d9",
   "metadata": {},
   "outputs": [
    {
     "data": {
      "text/plain": [
       "['Date', 'Passengers', 'Month', 'Year']"
      ]
     },
     "execution_count": 20,
     "metadata": {},
     "output_type": "execute_result"
    }
   ],
   "source": [
    "df_spark.columns"
   ]
  },
  {
   "cell_type": "code",
   "execution_count": 21,
   "id": "9533dd4a",
   "metadata": {},
   "outputs": [],
   "source": [
    "from pyspark.ml.feature import VectorAssembler"
   ]
  },
  {
   "cell_type": "code",
   "execution_count": 23,
   "id": "378b210d",
   "metadata": {},
   "outputs": [],
   "source": [
    "# combining independent features\n",
    "feature_assembler=VectorAssembler(inputCols=['Month','Year'],outputCol='Independent_Features')"
   ]
  },
  {
   "cell_type": "code",
   "execution_count": 24,
   "id": "4eb09dea",
   "metadata": {},
   "outputs": [],
   "source": [
    "output=feature_assembler.transform(df_spark)"
   ]
  },
  {
   "cell_type": "code",
   "execution_count": 25,
   "id": "63a012d9",
   "metadata": {},
   "outputs": [
    {
     "name": "stdout",
     "output_type": "stream",
     "text": [
      "+----------+----------+-----+----+--------------------+\n",
      "|      Date|Passengers|Month|Year|Independent_Features|\n",
      "+----------+----------+-----+----+--------------------+\n",
      "|1949-01-01|       112|    1|1949|        [1.0,1949.0]|\n",
      "|1949-02-01|       118|    2|1949|        [2.0,1949.0]|\n",
      "|1949-03-01|       132|    3|1949|        [3.0,1949.0]|\n",
      "|1949-04-01|       134|    4|1949|        [4.0,1949.0]|\n",
      "|1949-05-01|       133|    5|1949|        [5.0,1949.0]|\n",
      "|1949-06-01|       135|    6|1949|        [6.0,1949.0]|\n",
      "|1949-07-01|       148|    7|1949|        [7.0,1949.0]|\n",
      "|1949-08-01|       148|    8|1949|        [8.0,1949.0]|\n",
      "|1949-09-01|       136|    9|1949|        [9.0,1949.0]|\n",
      "|1949-10-01|       119|   10|1949|       [10.0,1949.0]|\n",
      "|1949-11-01|       104|   11|1949|       [11.0,1949.0]|\n",
      "|1949-12-01|       118|   12|1949|       [12.0,1949.0]|\n",
      "|1950-01-01|       115|    1|1950|        [1.0,1950.0]|\n",
      "|1950-02-01|       126|    2|1950|        [2.0,1950.0]|\n",
      "|1950-03-01|       141|    3|1950|        [3.0,1950.0]|\n",
      "|1950-04-01|       135|    4|1950|        [4.0,1950.0]|\n",
      "|1950-05-01|       125|    5|1950|        [5.0,1950.0]|\n",
      "|1950-06-01|       149|    6|1950|        [6.0,1950.0]|\n",
      "|1950-07-01|       170|    7|1950|        [7.0,1950.0]|\n",
      "|1950-08-01|       170|    8|1950|        [8.0,1950.0]|\n",
      "+----------+----------+-----+----+--------------------+\n",
      "only showing top 20 rows\n",
      "\n"
     ]
    }
   ],
   "source": [
    "output.show()"
   ]
  },
  {
   "cell_type": "code",
   "execution_count": 26,
   "id": "38924d2d",
   "metadata": {},
   "outputs": [],
   "source": [
    "# selecting depedent and independent features\n",
    "final_data=output.select('Independent_Features','Passengers')"
   ]
  },
  {
   "cell_type": "code",
   "execution_count": 27,
   "id": "ca1ca165",
   "metadata": {},
   "outputs": [
    {
     "name": "stdout",
     "output_type": "stream",
     "text": [
      "+--------------------+----------+\n",
      "|Independent_Features|Passengers|\n",
      "+--------------------+----------+\n",
      "|        [1.0,1949.0]|       112|\n",
      "|        [2.0,1949.0]|       118|\n",
      "|        [3.0,1949.0]|       132|\n",
      "|        [4.0,1949.0]|       134|\n",
      "|        [5.0,1949.0]|       133|\n",
      "|        [6.0,1949.0]|       135|\n",
      "|        [7.0,1949.0]|       148|\n",
      "|        [8.0,1949.0]|       148|\n",
      "|        [9.0,1949.0]|       136|\n",
      "|       [10.0,1949.0]|       119|\n",
      "|       [11.0,1949.0]|       104|\n",
      "|       [12.0,1949.0]|       118|\n",
      "|        [1.0,1950.0]|       115|\n",
      "|        [2.0,1950.0]|       126|\n",
      "|        [3.0,1950.0]|       141|\n",
      "|        [4.0,1950.0]|       135|\n",
      "|        [5.0,1950.0]|       125|\n",
      "|        [6.0,1950.0]|       149|\n",
      "|        [7.0,1950.0]|       170|\n",
      "|        [8.0,1950.0]|       170|\n",
      "+--------------------+----------+\n",
      "only showing top 20 rows\n",
      "\n"
     ]
    }
   ],
   "source": [
    "final_data.show()"
   ]
  },
  {
   "cell_type": "code",
   "execution_count": 28,
   "id": "e7d80a39",
   "metadata": {},
   "outputs": [],
   "source": [
    "from pyspark.ml.regression import LinearRegression"
   ]
  },
  {
   "cell_type": "code",
   "execution_count": 31,
   "id": "e72346fa",
   "metadata": {},
   "outputs": [],
   "source": [
    "# fitting the model\n",
    "train_data,test_data=final_data.randomSplit([0.75,0.25])\n",
    "regressor=LinearRegression(featuresCol='Independent_Features',labelCol='Passengers')\n",
    "regressor=regressor.fit(train_data)"
   ]
  },
  {
   "cell_type": "code",
   "execution_count": 32,
   "id": "7464a814",
   "metadata": {},
   "outputs": [
    {
     "data": {
      "text/plain": [
       "DenseVector([2.2044, 31.7139])"
      ]
     },
     "execution_count": 32,
     "metadata": {},
     "output_type": "execute_result"
    }
   ],
   "source": [
    "regressor.coefficients"
   ]
  },
  {
   "cell_type": "code",
   "execution_count": 33,
   "id": "40bc834c",
   "metadata": {},
   "outputs": [
    {
     "data": {
      "text/plain": [
       "-61721.015473929896"
      ]
     },
     "execution_count": 33,
     "metadata": {},
     "output_type": "execute_result"
    }
   ],
   "source": [
    "regressor.intercept"
   ]
  },
  {
   "cell_type": "code",
   "execution_count": 35,
   "id": "1a0ed2f2",
   "metadata": {},
   "outputs": [],
   "source": [
    "pred_results=regressor.evaluate(test_data)"
   ]
  },
  {
   "cell_type": "code",
   "execution_count": 36,
   "id": "e884767c",
   "metadata": {},
   "outputs": [
    {
     "name": "stderr",
     "output_type": "stream",
     "text": [
      "C:\\Users\\VIPUL\\anaconda3\\envs\\PySpark\\lib\\site-packages\\pyspark\\sql\\context.py:127: FutureWarning: Deprecated in 3.0.0. Use SparkSession.builder.getOrCreate() instead.\n",
      "  FutureWarning\n"
     ]
    },
    {
     "name": "stdout",
     "output_type": "stream",
     "text": [
      "+--------------------+----------+------------------+\n",
      "|Independent_Features|Passengers|        prediction|\n",
      "+--------------------+----------+------------------+\n",
      "|        [1.0,1951.0]|       145|155.00683354300418|\n",
      "|        [1.0,1958.0]|       340|377.00412994196813|\n",
      "|        [1.0,1960.0]|       417|440.43192891310173|\n",
      "|        [2.0,1960.0]|       391| 442.6363400453556|\n",
      "|        [3.0,1949.0]|       132| 95.98785683637107|\n",
      "|        [3.0,1951.0]|       178|159.41565580750466|\n",
      "|        [3.0,1952.0]|       193| 191.1295552930751|\n",
      "|        [3.0,1957.0]|       356|349.69905272090546|\n",
      "|        [4.0,1956.0]|       313| 320.1895643675889|\n",
      "|        [4.0,1958.0]|       348| 383.6173633387225|\n",
      "|        [5.0,1951.0]|       172|163.82447807201243|\n",
      "|        [5.0,1952.0]|       183| 195.5383775575756|\n",
      "|        [5.0,1953.0]|       229|227.25227704314602|\n",
      "|        [5.0,1954.0]|       234| 258.9661765287092|\n",
      "|        [5.0,1956.0]|       318| 322.3939754998428|\n",
      "|        [5.0,1960.0]|       472|   449.24957344211|\n",
      "|        [6.0,1950.0]|       149|134.31498971869587|\n",
      "|        [6.0,1951.0]|       178| 166.0288892042663|\n",
      "|        [6.0,1952.0]|       218|197.74278868982947|\n",
      "|        [6.0,1958.0]|       435|388.02618560323026|\n",
      "+--------------------+----------+------------------+\n",
      "only showing top 20 rows\n",
      "\n"
     ]
    }
   ],
   "source": [
    "pred_results.predictions.show()"
   ]
  },
  {
   "cell_type": "code",
   "execution_count": 37,
   "id": "ba1cbb1f",
   "metadata": {},
   "outputs": [
    {
     "data": {
      "text/plain": [
       "32.09257910162469"
      ]
     },
     "execution_count": 37,
     "metadata": {},
     "output_type": "execute_result"
    }
   ],
   "source": [
    "pred_results.meanAbsoluteError"
   ]
  },
  {
   "cell_type": "code",
   "execution_count": 38,
   "id": "ceace5a7",
   "metadata": {},
   "outputs": [
    {
     "data": {
      "text/plain": [
       "2026.1934554885713"
      ]
     },
     "execution_count": 38,
     "metadata": {},
     "output_type": "execute_result"
    }
   ],
   "source": [
    "pred_results.meanSquaredError"
   ]
  },
  {
   "cell_type": "code",
   "execution_count": 39,
   "id": "ceeb26b9",
   "metadata": {},
   "outputs": [
    {
     "data": {
      "text/plain": [
       "0.8463804449210506"
      ]
     },
     "execution_count": 39,
     "metadata": {},
     "output_type": "execute_result"
    }
   ],
   "source": [
    "pred_results.r2"
   ]
  },
  {
   "cell_type": "code",
   "execution_count": null,
   "id": "054558c4",
   "metadata": {},
   "outputs": [],
   "source": []
  }
 ],
 "metadata": {
  "kernelspec": {
   "display_name": "Python 3 (ipykernel)",
   "language": "python",
   "name": "python3"
  },
  "language_info": {
   "codemirror_mode": {
    "name": "ipython",
    "version": 3
   },
   "file_extension": ".py",
   "mimetype": "text/x-python",
   "name": "python",
   "nbconvert_exporter": "python",
   "pygments_lexer": "ipython3",
   "version": "3.7.13"
  }
 },
 "nbformat": 4,
 "nbformat_minor": 5
}
