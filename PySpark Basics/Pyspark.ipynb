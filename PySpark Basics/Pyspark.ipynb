{
 "cells": [
  {
   "cell_type": "code",
   "execution_count": 42,
   "id": "0637d32f",
   "metadata": {},
   "outputs": [],
   "source": [
    "import pyspark"
   ]
  },
  {
   "cell_type": "code",
   "execution_count": 43,
   "id": "1c1c74e8",
   "metadata": {},
   "outputs": [],
   "source": [
    "from pyspark.sql import SparkSession"
   ]
  },
  {
   "cell_type": "code",
   "execution_count": 44,
   "id": "590329a1",
   "metadata": {},
   "outputs": [],
   "source": [
    "# creating spark session\n",
    "spark=SparkSession.builder.appName('Practice').getOrCreate()"
   ]
  },
  {
   "cell_type": "code",
   "execution_count": 45,
   "id": "2710ed2e",
   "metadata": {},
   "outputs": [
    {
     "data": {
      "text/html": [
       "\n",
       "            <div>\n",
       "                <p><b>SparkSession - in-memory</b></p>\n",
       "                \n",
       "        <div>\n",
       "            <p><b>SparkContext</b></p>\n",
       "\n",
       "            <p><a href=\"http://DESKTOP-FL9V6HT.mshome.net:4041\">Spark UI</a></p>\n",
       "\n",
       "            <dl>\n",
       "              <dt>Version</dt>\n",
       "                <dd><code>v3.2.1</code></dd>\n",
       "              <dt>Master</dt>\n",
       "                <dd><code>local[*]</code></dd>\n",
       "              <dt>AppName</dt>\n",
       "                <dd><code>Practice</code></dd>\n",
       "            </dl>\n",
       "        </div>\n",
       "        \n",
       "            </div>\n",
       "        "
      ],
      "text/plain": [
       "<pyspark.sql.session.SparkSession at 0x16b92df7508>"
      ]
     },
     "execution_count": 45,
     "metadata": {},
     "output_type": "execute_result"
    }
   ],
   "source": [
    "spark"
   ]
  },
  {
   "cell_type": "code",
   "execution_count": 46,
   "id": "9d647718",
   "metadata": {},
   "outputs": [
    {
     "data": {
      "text/plain": [
       "DataFrame[Month: string, #Passengers: string]"
      ]
     },
     "execution_count": 46,
     "metadata": {},
     "output_type": "execute_result"
    }
   ],
   "source": [
    "# importing dataframe in csv\n",
    "df_spark=spark.read.option('header','true').csv('AirPassengers.csv')\n",
    "df_spark"
   ]
  },
  {
   "cell_type": "code",
   "execution_count": 47,
   "id": "a97b0dd8",
   "metadata": {},
   "outputs": [
    {
     "name": "stdout",
     "output_type": "stream",
     "text": [
      "+-------+-----------+\n",
      "|  Month|#Passengers|\n",
      "+-------+-----------+\n",
      "|1949-01|        112|\n",
      "|1949-02|        118|\n",
      "|1949-03|        132|\n",
      "|1949-04|        129|\n",
      "|1949-05|        121|\n",
      "|1949-06|        135|\n",
      "|1949-07|        148|\n",
      "|1949-08|        148|\n",
      "|1949-09|        136|\n",
      "|1949-10|        119|\n",
      "|1949-11|        104|\n",
      "|1949-12|        118|\n",
      "|1950-01|        115|\n",
      "|1950-02|        126|\n",
      "|1950-03|        141|\n",
      "|1950-04|        135|\n",
      "|1950-05|        125|\n",
      "|1950-06|        149|\n",
      "|1950-07|        170|\n",
      "|1950-08|        170|\n",
      "+-------+-----------+\n",
      "only showing top 20 rows\n",
      "\n"
     ]
    }
   ],
   "source": [
    "df_spark.show()"
   ]
  },
  {
   "cell_type": "code",
   "execution_count": 48,
   "id": "6bff567e",
   "metadata": {},
   "outputs": [
    {
     "data": {
      "text/plain": [
       "pyspark.sql.dataframe.DataFrame"
      ]
     },
     "execution_count": 48,
     "metadata": {},
     "output_type": "execute_result"
    }
   ],
   "source": [
    "type(df_spark)"
   ]
  },
  {
   "cell_type": "code",
   "execution_count": 49,
   "id": "0f431eb8",
   "metadata": {},
   "outputs": [
    {
     "data": {
      "text/plain": [
       "Row(Month='1949-01', #Passengers='112')"
      ]
     },
     "execution_count": 49,
     "metadata": {},
     "output_type": "execute_result"
    }
   ],
   "source": [
    "df_spark.head()"
   ]
  },
  {
   "cell_type": "code",
   "execution_count": 50,
   "id": "2cd5f97d",
   "metadata": {},
   "outputs": [
    {
     "name": "stdout",
     "output_type": "stream",
     "text": [
      "root\n",
      " |-- Month: string (nullable = true)\n",
      " |-- #Passengers: string (nullable = true)\n",
      "\n"
     ]
    }
   ],
   "source": [
    "# like info in pandas\n",
    "df_spark.printSchema()"
   ]
  },
  {
   "cell_type": "code",
   "execution_count": 51,
   "id": "f55e384a",
   "metadata": {},
   "outputs": [],
   "source": [
    "# by default considers all columns as string,we have to do inferSchema=True while reading to avoid that"
   ]
  },
  {
   "cell_type": "code",
   "execution_count": 52,
   "id": "cd76e6e6",
   "metadata": {},
   "outputs": [
    {
     "data": {
      "text/plain": [
       "DataFrame[Month: string, #Passengers: int]"
      ]
     },
     "execution_count": 52,
     "metadata": {},
     "output_type": "execute_result"
    }
   ],
   "source": [
    "# importing dataframe in csv\n",
    "df_spark=spark.read.option('header','true').csv('AirPassengers.csv',inferSchema=True)\n",
    "df_spark"
   ]
  },
  {
   "cell_type": "code",
   "execution_count": null,
   "id": "c2787976",
   "metadata": {},
   "outputs": [],
   "source": []
  },
  {
   "cell_type": "code",
   "execution_count": 53,
   "id": "5e909c3d",
   "metadata": {},
   "outputs": [
    {
     "data": {
      "text/plain": [
       "DataFrame[Month: string, #Passengers: int]"
      ]
     },
     "execution_count": 53,
     "metadata": {},
     "output_type": "execute_result"
    }
   ],
   "source": [
    "# importing dataframe in csv\n",
    "df_spark=spark.read.csv('AirPassengers.csv',header=True,inferSchema=True)\n",
    "df_spark"
   ]
  },
  {
   "cell_type": "code",
   "execution_count": 54,
   "id": "275d5639",
   "metadata": {},
   "outputs": [
    {
     "name": "stdout",
     "output_type": "stream",
     "text": [
      "+-------+-----------+\n",
      "|  Month|#Passengers|\n",
      "+-------+-----------+\n",
      "|1949-01|        112|\n",
      "|1949-02|        118|\n",
      "|1949-03|        132|\n",
      "|1949-04|        129|\n",
      "|1949-05|        121|\n",
      "|1949-06|        135|\n",
      "|1949-07|        148|\n",
      "|1949-08|        148|\n",
      "|1949-09|        136|\n",
      "|1949-10|        119|\n",
      "|1949-11|        104|\n",
      "|1949-12|        118|\n",
      "|1950-01|        115|\n",
      "|1950-02|        126|\n",
      "|1950-03|        141|\n",
      "|1950-04|        135|\n",
      "|1950-05|        125|\n",
      "|1950-06|        149|\n",
      "|1950-07|        170|\n",
      "|1950-08|        170|\n",
      "+-------+-----------+\n",
      "only showing top 20 rows\n",
      "\n"
     ]
    }
   ],
   "source": [
    "df_spark.show()"
   ]
  },
  {
   "cell_type": "code",
   "execution_count": 55,
   "id": "6f4d6df2",
   "metadata": {},
   "outputs": [],
   "source": [
    "# dataframe is also a type of data structure"
   ]
  },
  {
   "cell_type": "code",
   "execution_count": 56,
   "id": "060ab6f7",
   "metadata": {},
   "outputs": [
    {
     "data": {
      "text/plain": [
       "['Month', '#Passengers']"
      ]
     },
     "execution_count": 56,
     "metadata": {},
     "output_type": "execute_result"
    }
   ],
   "source": [
    "df_spark.columns"
   ]
  },
  {
   "cell_type": "code",
   "execution_count": 57,
   "id": "3d99bc75",
   "metadata": {},
   "outputs": [
    {
     "data": {
      "text/plain": [
       "[Row(Month='1949-01', #Passengers=112),\n",
       " Row(Month='1949-02', #Passengers=118),\n",
       " Row(Month='1949-03', #Passengers=132),\n",
       " Row(Month='1949-04', #Passengers=129),\n",
       " Row(Month='1949-05', #Passengers=121),\n",
       " Row(Month='1949-06', #Passengers=135),\n",
       " Row(Month='1949-07', #Passengers=148),\n",
       " Row(Month='1949-08', #Passengers=148),\n",
       " Row(Month='1949-09', #Passengers=136),\n",
       " Row(Month='1949-10', #Passengers=119)]"
      ]
     },
     "execution_count": 57,
     "metadata": {},
     "output_type": "execute_result"
    }
   ],
   "source": [
    "df_spark.head(10)"
   ]
  },
  {
   "cell_type": "code",
   "execution_count": 77,
   "id": "da48ed71",
   "metadata": {},
   "outputs": [],
   "source": [
    "# selecting a column"
   ]
  },
  {
   "cell_type": "code",
   "execution_count": 58,
   "id": "514bd5f8",
   "metadata": {},
   "outputs": [
    {
     "data": {
      "text/plain": [
       "DataFrame[Month: string]"
      ]
     },
     "execution_count": 58,
     "metadata": {},
     "output_type": "execute_result"
    }
   ],
   "source": [
    "df_spark.select('Month')"
   ]
  },
  {
   "cell_type": "code",
   "execution_count": 59,
   "id": "f2921d38",
   "metadata": {},
   "outputs": [
    {
     "name": "stdout",
     "output_type": "stream",
     "text": [
      "+-------+\n",
      "|  Month|\n",
      "+-------+\n",
      "|1949-01|\n",
      "|1949-02|\n",
      "|1949-03|\n",
      "|1949-04|\n",
      "|1949-05|\n",
      "|1949-06|\n",
      "|1949-07|\n",
      "|1949-08|\n",
      "|1949-09|\n",
      "|1949-10|\n",
      "|1949-11|\n",
      "|1949-12|\n",
      "|1950-01|\n",
      "|1950-02|\n",
      "|1950-03|\n",
      "|1950-04|\n",
      "|1950-05|\n",
      "|1950-06|\n",
      "|1950-07|\n",
      "|1950-08|\n",
      "+-------+\n",
      "only showing top 20 rows\n",
      "\n"
     ]
    }
   ],
   "source": [
    "df_spark.select('Month').show()"
   ]
  },
  {
   "cell_type": "code",
   "execution_count": 60,
   "id": "c2ad1481",
   "metadata": {},
   "outputs": [
    {
     "data": {
      "text/plain": [
       "pyspark.sql.dataframe.DataFrame"
      ]
     },
     "execution_count": 60,
     "metadata": {},
     "output_type": "execute_result"
    }
   ],
   "source": [
    "type(df_spark.select('Month'))"
   ]
  },
  {
   "cell_type": "code",
   "execution_count": 61,
   "id": "7c1cbb84",
   "metadata": {},
   "outputs": [
    {
     "name": "stdout",
     "output_type": "stream",
     "text": [
      "+-------+-----------+\n",
      "|  Month|#Passengers|\n",
      "+-------+-----------+\n",
      "|1949-01|        112|\n",
      "|1949-02|        118|\n",
      "|1949-03|        132|\n",
      "|1949-04|        129|\n",
      "|1949-05|        121|\n",
      "|1949-06|        135|\n",
      "|1949-07|        148|\n",
      "|1949-08|        148|\n",
      "|1949-09|        136|\n",
      "|1949-10|        119|\n",
      "|1949-11|        104|\n",
      "|1949-12|        118|\n",
      "|1950-01|        115|\n",
      "|1950-02|        126|\n",
      "|1950-03|        141|\n",
      "|1950-04|        135|\n",
      "|1950-05|        125|\n",
      "|1950-06|        149|\n",
      "|1950-07|        170|\n",
      "|1950-08|        170|\n",
      "+-------+-----------+\n",
      "only showing top 20 rows\n",
      "\n"
     ]
    }
   ],
   "source": [
    "df_spark.select('Month','#Passengers').show()"
   ]
  },
  {
   "cell_type": "code",
   "execution_count": 62,
   "id": "920f9755",
   "metadata": {},
   "outputs": [
    {
     "name": "stdout",
     "output_type": "stream",
     "text": [
      "+-------+-----------+\n",
      "|  Month|#Passengers|\n",
      "+-------+-----------+\n",
      "|1949-01|        112|\n",
      "|1949-02|        118|\n",
      "|1949-03|        132|\n",
      "|1949-04|        129|\n",
      "|1949-05|        121|\n",
      "|1949-06|        135|\n",
      "|1949-07|        148|\n",
      "|1949-08|        148|\n",
      "|1949-09|        136|\n",
      "|1949-10|        119|\n",
      "|1949-11|        104|\n",
      "|1949-12|        118|\n",
      "|1950-01|        115|\n",
      "|1950-02|        126|\n",
      "|1950-03|        141|\n",
      "|1950-04|        135|\n",
      "|1950-05|        125|\n",
      "|1950-06|        149|\n",
      "|1950-07|        170|\n",
      "|1950-08|        170|\n",
      "+-------+-----------+\n",
      "only showing top 20 rows\n",
      "\n"
     ]
    }
   ],
   "source": [
    "df_spark.select(['Month','#Passengers']).show()"
   ]
  },
  {
   "cell_type": "code",
   "execution_count": 63,
   "id": "940ac444",
   "metadata": {},
   "outputs": [
    {
     "data": {
      "text/plain": [
       "Column<'Month'>"
      ]
     },
     "execution_count": 63,
     "metadata": {},
     "output_type": "execute_result"
    }
   ],
   "source": [
    "df_spark['Month']"
   ]
  },
  {
   "cell_type": "code",
   "execution_count": 64,
   "id": "6dbd20f8",
   "metadata": {},
   "outputs": [
    {
     "data": {
      "text/plain": [
       "[('Month', 'string'), ('#Passengers', 'int')]"
      ]
     },
     "execution_count": 64,
     "metadata": {},
     "output_type": "execute_result"
    }
   ],
   "source": [
    "df_spark.dtypes"
   ]
  },
  {
   "cell_type": "code",
   "execution_count": 78,
   "id": "28a1c96e",
   "metadata": {},
   "outputs": [],
   "source": [
    "# describe a dataframe"
   ]
  },
  {
   "cell_type": "code",
   "execution_count": 65,
   "id": "9650f1d0",
   "metadata": {},
   "outputs": [
    {
     "name": "stdout",
     "output_type": "stream",
     "text": [
      "+-------+-------+------------------+\n",
      "|summary|  Month|       #Passengers|\n",
      "+-------+-------+------------------+\n",
      "|  count|    144|               144|\n",
      "|   mean|   null| 280.2986111111111|\n",
      "| stddev|   null|119.96631694294322|\n",
      "|    min|1949-01|               104|\n",
      "|    max|1960-12|               622|\n",
      "+-------+-------+------------------+\n",
      "\n"
     ]
    }
   ],
   "source": [
    "df_spark.describe().show()"
   ]
  },
  {
   "cell_type": "code",
   "execution_count": 66,
   "id": "63fa6b41",
   "metadata": {},
   "outputs": [],
   "source": [
    "# adding columns in pyspark dataframe"
   ]
  },
  {
   "cell_type": "code",
   "execution_count": 67,
   "id": "2117bb5c",
   "metadata": {},
   "outputs": [],
   "source": [
    "df_spark=df_spark.withColumn('Passengers1',df_spark['#Passengers']+2)"
   ]
  },
  {
   "cell_type": "code",
   "execution_count": 71,
   "id": "cb61176c",
   "metadata": {},
   "outputs": [
    {
     "name": "stdout",
     "output_type": "stream",
     "text": [
      "+-------+-----------+-----------+\n",
      "|  Month|#Passengers|Passengers1|\n",
      "+-------+-----------+-----------+\n",
      "|1949-01|        112|        114|\n",
      "|1949-02|        118|        120|\n",
      "|1949-03|        132|        134|\n",
      "|1949-04|        129|        131|\n",
      "|1949-05|        121|        123|\n",
      "|1949-06|        135|        137|\n",
      "|1949-07|        148|        150|\n",
      "|1949-08|        148|        150|\n",
      "|1949-09|        136|        138|\n",
      "|1949-10|        119|        121|\n",
      "|1949-11|        104|        106|\n",
      "|1949-12|        118|        120|\n",
      "|1950-01|        115|        117|\n",
      "|1950-02|        126|        128|\n",
      "|1950-03|        141|        143|\n",
      "|1950-04|        135|        137|\n",
      "|1950-05|        125|        127|\n",
      "|1950-06|        149|        151|\n",
      "|1950-07|        170|        172|\n",
      "|1950-08|        170|        172|\n",
      "+-------+-----------+-----------+\n",
      "only showing top 20 rows\n",
      "\n"
     ]
    }
   ],
   "source": [
    "df_spark.show()"
   ]
  },
  {
   "cell_type": "code",
   "execution_count": 69,
   "id": "b65ee891",
   "metadata": {},
   "outputs": [
    {
     "data": {
      "text/plain": [
       "144"
      ]
     },
     "execution_count": 69,
     "metadata": {},
     "output_type": "execute_result"
    }
   ],
   "source": [
    "df_spark.count()"
   ]
  },
  {
   "cell_type": "code",
   "execution_count": null,
   "id": "f100ee94",
   "metadata": {},
   "outputs": [],
   "source": [
    "# drop columns"
   ]
  },
  {
   "cell_type": "code",
   "execution_count": 74,
   "id": "0b7fc585",
   "metadata": {},
   "outputs": [
    {
     "name": "stdout",
     "output_type": "stream",
     "text": [
      "+-------+-----------+\n",
      "|  Month|#Passengers|\n",
      "+-------+-----------+\n",
      "|1949-01|        112|\n",
      "|1949-02|        118|\n",
      "|1949-03|        132|\n",
      "|1949-04|        129|\n",
      "|1949-05|        121|\n",
      "|1949-06|        135|\n",
      "|1949-07|        148|\n",
      "|1949-08|        148|\n",
      "|1949-09|        136|\n",
      "|1949-10|        119|\n",
      "|1949-11|        104|\n",
      "|1949-12|        118|\n",
      "|1950-01|        115|\n",
      "|1950-02|        126|\n",
      "|1950-03|        141|\n",
      "|1950-04|        135|\n",
      "|1950-05|        125|\n",
      "|1950-06|        149|\n",
      "|1950-07|        170|\n",
      "|1950-08|        170|\n",
      "+-------+-----------+\n",
      "only showing top 20 rows\n",
      "\n"
     ]
    }
   ],
   "source": [
    "df_spark.drop('Passengers1').show()"
   ]
  },
  {
   "cell_type": "code",
   "execution_count": 75,
   "id": "2cc89d03",
   "metadata": {},
   "outputs": [],
   "source": [
    "# renaming the columns"
   ]
  },
  {
   "cell_type": "code",
   "execution_count": 76,
   "id": "c6c81d43",
   "metadata": {},
   "outputs": [
    {
     "name": "stdout",
     "output_type": "stream",
     "text": [
      "+-------+----------+-----------+\n",
      "|  Month|Passengers|Passengers1|\n",
      "+-------+----------+-----------+\n",
      "|1949-01|       112|        114|\n",
      "|1949-02|       118|        120|\n",
      "|1949-03|       132|        134|\n",
      "|1949-04|       129|        131|\n",
      "|1949-05|       121|        123|\n",
      "|1949-06|       135|        137|\n",
      "|1949-07|       148|        150|\n",
      "|1949-08|       148|        150|\n",
      "|1949-09|       136|        138|\n",
      "|1949-10|       119|        121|\n",
      "|1949-11|       104|        106|\n",
      "|1949-12|       118|        120|\n",
      "|1950-01|       115|        117|\n",
      "|1950-02|       126|        128|\n",
      "|1950-03|       141|        143|\n",
      "|1950-04|       135|        137|\n",
      "|1950-05|       125|        127|\n",
      "|1950-06|       149|        151|\n",
      "|1950-07|       170|        172|\n",
      "|1950-08|       170|        172|\n",
      "+-------+----------+-----------+\n",
      "only showing top 20 rows\n",
      "\n"
     ]
    }
   ],
   "source": [
    "df_spark.withColumnRenamed('#Passengers','Passengers').show()"
   ]
  },
  {
   "cell_type": "code",
   "execution_count": null,
   "id": "0b3cd33a",
   "metadata": {},
   "outputs": [],
   "source": []
  },
  {
   "cell_type": "code",
   "execution_count": null,
   "id": "9c243014",
   "metadata": {},
   "outputs": [],
   "source": []
  },
  {
   "cell_type": "markdown",
   "id": "fcb2b2a2",
   "metadata": {},
   "source": [
    "# Handling missing values"
   ]
  },
  {
   "cell_type": "code",
   "execution_count": 114,
   "id": "95929ecd",
   "metadata": {},
   "outputs": [
    {
     "data": {
      "text/plain": [
       "DataFrame[Month: string, #Passengers: int]"
      ]
     },
     "execution_count": 114,
     "metadata": {},
     "output_type": "execute_result"
    }
   ],
   "source": [
    "# importing dataframe in csv\n",
    "df_spark=spark.read.option('header','true').csv('AirPassengers.csv',inferSchema=True)\n",
    "df_spark"
   ]
  },
  {
   "cell_type": "code",
   "execution_count": 115,
   "id": "e595a099",
   "metadata": {},
   "outputs": [
    {
     "name": "stdout",
     "output_type": "stream",
     "text": [
      "+-------+-----------+\n",
      "|  Month|#Passengers|\n",
      "+-------+-----------+\n",
      "|1949-01|        112|\n",
      "|1949-02|        118|\n",
      "|1949-03|        132|\n",
      "|1949-04|       null|\n",
      "|   null|       null|\n",
      "|1949-06|        135|\n",
      "|1949-07|        148|\n",
      "|1949-08|        148|\n",
      "|1949-09|        136|\n",
      "|1949-10|        119|\n",
      "|1949-11|        104|\n",
      "|1949-12|        118|\n",
      "|1950-01|        115|\n",
      "|1950-02|        126|\n",
      "|1950-03|        141|\n",
      "|1950-04|        135|\n",
      "|1950-05|        125|\n",
      "|1950-06|        149|\n",
      "|1950-07|        170|\n",
      "|1950-08|        170|\n",
      "+-------+-----------+\n",
      "only showing top 20 rows\n",
      "\n"
     ]
    }
   ],
   "source": [
    "df_spark.show()"
   ]
  },
  {
   "cell_type": "code",
   "execution_count": 116,
   "id": "9d69b3a3",
   "metadata": {},
   "outputs": [
    {
     "name": "stdout",
     "output_type": "stream",
     "text": [
      "+-------+-----------+\n",
      "|  Month|#Passengers|\n",
      "+-------+-----------+\n",
      "|1949-01|        112|\n",
      "|1949-02|        118|\n",
      "|1949-03|        132|\n",
      "|1949-06|        135|\n",
      "|1949-07|        148|\n",
      "|1949-08|        148|\n",
      "|1949-09|        136|\n",
      "|1949-10|        119|\n",
      "|1949-11|        104|\n",
      "|1949-12|        118|\n",
      "|1950-01|        115|\n",
      "|1950-02|        126|\n",
      "|1950-03|        141|\n",
      "|1950-04|        135|\n",
      "|1950-05|        125|\n",
      "|1950-06|        149|\n",
      "|1950-07|        170|\n",
      "|1950-08|        170|\n",
      "|1950-09|        158|\n",
      "|1950-10|        133|\n",
      "+-------+-----------+\n",
      "only showing top 20 rows\n",
      "\n"
     ]
    }
   ],
   "source": [
    "df_spark.na.drop().show()"
   ]
  },
  {
   "cell_type": "code",
   "execution_count": 117,
   "id": "74df0067",
   "metadata": {},
   "outputs": [],
   "source": [
    "# any==how"
   ]
  },
  {
   "cell_type": "code",
   "execution_count": 118,
   "id": "2a873e8c",
   "metadata": {},
   "outputs": [
    {
     "name": "stdout",
     "output_type": "stream",
     "text": [
      "+-------+-----------+\n",
      "|  Month|#Passengers|\n",
      "+-------+-----------+\n",
      "|1949-01|        112|\n",
      "|1949-02|        118|\n",
      "|1949-03|        132|\n",
      "|1949-04|       null|\n",
      "|1949-06|        135|\n",
      "|1949-07|        148|\n",
      "|1949-08|        148|\n",
      "|1949-09|        136|\n",
      "|1949-10|        119|\n",
      "|1949-11|        104|\n",
      "|1949-12|        118|\n",
      "|1950-01|        115|\n",
      "|1950-02|        126|\n",
      "|1950-03|        141|\n",
      "|1950-04|        135|\n",
      "|1950-05|        125|\n",
      "|1950-06|        149|\n",
      "|1950-07|        170|\n",
      "|1950-08|        170|\n",
      "|1950-09|        158|\n",
      "+-------+-----------+\n",
      "only showing top 20 rows\n",
      "\n"
     ]
    }
   ],
   "source": [
    "df_spark.na.drop(how='all').show()"
   ]
  },
  {
   "cell_type": "code",
   "execution_count": null,
   "id": "f8025bf8",
   "metadata": {},
   "outputs": [],
   "source": []
  },
  {
   "cell_type": "code",
   "execution_count": 119,
   "id": "6c2d4c66",
   "metadata": {},
   "outputs": [],
   "source": [
    "# threshold: no of null values a row should have to drop"
   ]
  },
  {
   "cell_type": "code",
   "execution_count": 120,
   "id": "992373a3",
   "metadata": {},
   "outputs": [],
   "source": [
    "# subset: drop nan only from some particular columns"
   ]
  },
  {
   "cell_type": "code",
   "execution_count": null,
   "id": "4d11fa90",
   "metadata": {},
   "outputs": [],
   "source": []
  },
  {
   "cell_type": "code",
   "execution_count": 121,
   "id": "3ea8cc58",
   "metadata": {},
   "outputs": [],
   "source": [
    "# filling the missing values"
   ]
  },
  {
   "cell_type": "code",
   "execution_count": 122,
   "id": "3c5c172c",
   "metadata": {},
   "outputs": [
    {
     "name": "stdout",
     "output_type": "stream",
     "text": [
      "+-------+-----------+\n",
      "|  Month|#Passengers|\n",
      "+-------+-----------+\n",
      "|1949-01|        112|\n",
      "|1949-02|        118|\n",
      "|1949-03|        132|\n",
      "|1949-04|       null|\n",
      "|      0|       null|\n",
      "|1949-06|        135|\n",
      "|1949-07|        148|\n",
      "|1949-08|        148|\n",
      "|1949-09|        136|\n",
      "|1949-10|        119|\n",
      "|1949-11|        104|\n",
      "|1949-12|        118|\n",
      "|1950-01|        115|\n",
      "|1950-02|        126|\n",
      "|1950-03|        141|\n",
      "|1950-04|        135|\n",
      "|1950-05|        125|\n",
      "|1950-06|        149|\n",
      "|1950-07|        170|\n",
      "|1950-08|        170|\n",
      "+-------+-----------+\n",
      "only showing top 20 rows\n",
      "\n"
     ]
    }
   ],
   "source": [
    "df_spark.na.fill('0').show()"
   ]
  },
  {
   "cell_type": "code",
   "execution_count": 125,
   "id": "d99ee321",
   "metadata": {},
   "outputs": [
    {
     "name": "stdout",
     "output_type": "stream",
     "text": [
      "+-------+-----------+\n",
      "|  Month|#Passengers|\n",
      "+-------+-----------+\n",
      "|1949-01|        112|\n",
      "|1949-02|        118|\n",
      "|1949-03|        132|\n",
      "|1949-04|          0|\n",
      "|   null|          0|\n",
      "|1949-06|        135|\n",
      "|1949-07|        148|\n",
      "|1949-08|        148|\n",
      "|1949-09|        136|\n",
      "|1949-10|        119|\n",
      "|1949-11|        104|\n",
      "|1949-12|        118|\n",
      "|1950-01|        115|\n",
      "|1950-02|        126|\n",
      "|1950-03|        141|\n",
      "|1950-04|        135|\n",
      "|1950-05|        125|\n",
      "|1950-06|        149|\n",
      "|1950-07|        170|\n",
      "|1950-08|        170|\n",
      "+-------+-----------+\n",
      "only showing top 20 rows\n",
      "\n"
     ]
    }
   ],
   "source": [
    "df_spark.na.fill(0,subset=['#Passengers']).show()"
   ]
  },
  {
   "cell_type": "code",
   "execution_count": 126,
   "id": "4c0635e6",
   "metadata": {},
   "outputs": [],
   "source": [
    "# imputing missing values"
   ]
  },
  {
   "cell_type": "code",
   "execution_count": 127,
   "id": "13ccf7fe",
   "metadata": {},
   "outputs": [],
   "source": [
    "from pyspark.ml.feature import Imputer"
   ]
  },
  {
   "cell_type": "code",
   "execution_count": 129,
   "id": "6059eeb6",
   "metadata": {},
   "outputs": [],
   "source": [
    "imputer=Imputer(inputCols=['#Passengers'],\n",
    "               outputCols=['Imputed_#Passengers']).setStrategy('mean')"
   ]
  },
  {
   "cell_type": "code",
   "execution_count": 133,
   "id": "ee487d5d",
   "metadata": {},
   "outputs": [
    {
     "name": "stdout",
     "output_type": "stream",
     "text": [
      "+-------+-----------+-------------------+\n",
      "|  Month|#Passengers|Imputed_#Passengers|\n",
      "+-------+-----------+-------------------+\n",
      "|1949-01|        112|                112|\n",
      "|1949-02|        118|                118|\n",
      "|1949-03|        132|                132|\n",
      "|1949-04|       null|                283|\n",
      "|   null|       null|                283|\n",
      "|1949-06|        135|                135|\n",
      "|1949-07|        148|                148|\n",
      "|1949-08|        148|                148|\n",
      "|1949-09|        136|                136|\n",
      "|1949-10|        119|                119|\n",
      "|1949-11|        104|                104|\n",
      "|1949-12|        118|                118|\n",
      "|1950-01|        115|                115|\n",
      "|1950-02|        126|                126|\n",
      "|1950-03|        141|                141|\n",
      "|1950-04|        135|                135|\n",
      "|1950-05|        125|                125|\n",
      "|1950-06|        149|                149|\n",
      "|1950-07|        170|                170|\n",
      "|1950-08|        170|                170|\n",
      "+-------+-----------+-------------------+\n",
      "only showing top 20 rows\n",
      "\n"
     ]
    }
   ],
   "source": [
    "imputer.fit(df_spark).transform(df_spark).show()"
   ]
  },
  {
   "cell_type": "code",
   "execution_count": 132,
   "id": "de8dd370",
   "metadata": {},
   "outputs": [
    {
     "name": "stdout",
     "output_type": "stream",
     "text": [
      "+-------+-----------+\n",
      "|  Month|#Passengers|\n",
      "+-------+-----------+\n",
      "|1949-01|        112|\n",
      "|1949-02|        118|\n",
      "|1949-03|        132|\n",
      "|1949-04|       null|\n",
      "|   null|       null|\n",
      "|1949-06|        135|\n",
      "|1949-07|        148|\n",
      "|1949-08|        148|\n",
      "|1949-09|        136|\n",
      "|1949-10|        119|\n",
      "|1949-11|        104|\n",
      "|1949-12|        118|\n",
      "|1950-01|        115|\n",
      "|1950-02|        126|\n",
      "|1950-03|        141|\n",
      "|1950-04|        135|\n",
      "|1950-05|        125|\n",
      "|1950-06|        149|\n",
      "|1950-07|        170|\n",
      "|1950-08|        170|\n",
      "+-------+-----------+\n",
      "only showing top 20 rows\n",
      "\n"
     ]
    }
   ],
   "source": [
    "df_spark.show()"
   ]
  },
  {
   "cell_type": "code",
   "execution_count": null,
   "id": "26d4bba3",
   "metadata": {},
   "outputs": [],
   "source": []
  },
  {
   "cell_type": "markdown",
   "id": "cd02d882",
   "metadata": {},
   "source": [
    "# Filter Operations"
   ]
  },
  {
   "cell_type": "code",
   "execution_count": 165,
   "id": "b61a548f",
   "metadata": {},
   "outputs": [
    {
     "data": {
      "text/plain": [
       "DataFrame[Month: string, Passengers: int]"
      ]
     },
     "execution_count": 165,
     "metadata": {},
     "output_type": "execute_result"
    }
   ],
   "source": [
    "# importing dataframe in csv\n",
    "df_spark=spark.read.option('header','true').csv('AirPassengers.csv',inferSchema=True)\n",
    "df_spark"
   ]
  },
  {
   "cell_type": "code",
   "execution_count": 145,
   "id": "1ec7009b",
   "metadata": {},
   "outputs": [
    {
     "name": "stdout",
     "output_type": "stream",
     "text": [
      "+-------+----------+\n",
      "|  Month|Passengers|\n",
      "+-------+----------+\n",
      "|1949-01|       112|\n",
      "|1949-02|       118|\n",
      "|1949-03|       132|\n",
      "|1949-04|      null|\n",
      "|   null|      null|\n",
      "|1949-06|       135|\n",
      "|1949-07|       148|\n",
      "|1949-08|       148|\n",
      "|1949-09|       136|\n",
      "|1949-10|       119|\n",
      "|1949-11|       104|\n",
      "|1949-12|       118|\n",
      "|1950-01|       115|\n",
      "|1950-02|       126|\n",
      "|1950-03|       141|\n",
      "|1950-04|       135|\n",
      "|1950-05|       125|\n",
      "|1950-06|       149|\n",
      "|1950-07|       170|\n",
      "|1950-08|       170|\n",
      "+-------+----------+\n",
      "only showing top 20 rows\n",
      "\n"
     ]
    }
   ],
   "source": [
    "df_spark.show()"
   ]
  },
  {
   "cell_type": "code",
   "execution_count": 146,
   "id": "3a7f4be5",
   "metadata": {},
   "outputs": [],
   "source": [
    "df_spark=df_spark.na.fill('0')"
   ]
  },
  {
   "cell_type": "code",
   "execution_count": 147,
   "id": "3acf57aa",
   "metadata": {},
   "outputs": [],
   "source": [
    "df_spark=df_spark.na.fill(0)"
   ]
  },
  {
   "cell_type": "code",
   "execution_count": 148,
   "id": "958f9a6b",
   "metadata": {},
   "outputs": [
    {
     "name": "stdout",
     "output_type": "stream",
     "text": [
      "+-------+----------+\n",
      "|  Month|Passengers|\n",
      "+-------+----------+\n",
      "|1949-01|       112|\n",
      "|1949-02|       118|\n",
      "|1949-03|       132|\n",
      "|1949-04|         0|\n",
      "|      0|         0|\n",
      "|1949-06|       135|\n",
      "|1949-07|       148|\n",
      "|1949-08|       148|\n",
      "|1949-09|       136|\n",
      "|1949-10|       119|\n",
      "|1949-11|       104|\n",
      "|1949-12|       118|\n",
      "|1950-01|       115|\n",
      "|1950-02|       126|\n",
      "|1950-03|       141|\n",
      "|1950-04|       135|\n",
      "|1950-05|       125|\n",
      "|1950-06|       149|\n",
      "|1950-07|       170|\n",
      "|1950-08|       170|\n",
      "+-------+----------+\n",
      "only showing top 20 rows\n",
      "\n"
     ]
    }
   ],
   "source": [
    "df_spark.show()"
   ]
  },
  {
   "cell_type": "code",
   "execution_count": 150,
   "id": "3c938b5a",
   "metadata": {},
   "outputs": [
    {
     "name": "stdout",
     "output_type": "stream",
     "text": [
      "+-------+----------+\n",
      "|  Month|Passengers|\n",
      "+-------+----------+\n",
      "|1949-03|       132|\n",
      "|1949-06|       135|\n",
      "|1949-07|       148|\n",
      "|1949-08|       148|\n",
      "|1949-09|       136|\n",
      "|1950-02|       126|\n",
      "|1950-03|       141|\n",
      "|1950-04|       135|\n",
      "|1950-05|       125|\n",
      "|1950-06|       149|\n",
      "|1950-07|       170|\n",
      "|1950-08|       170|\n",
      "|1950-09|       158|\n",
      "|1950-10|       133|\n",
      "|1950-12|       140|\n",
      "|1951-01|       145|\n",
      "|1951-02|       150|\n",
      "|1951-03|       178|\n",
      "|1951-04|       163|\n",
      "|1951-05|       172|\n",
      "+-------+----------+\n",
      "only showing top 20 rows\n",
      "\n"
     ]
    }
   ],
   "source": [
    "df_spark.filter(\"Passengers>=120\").show()"
   ]
  },
  {
   "cell_type": "code",
   "execution_count": 153,
   "id": "92743572",
   "metadata": {},
   "outputs": [
    {
     "name": "stdout",
     "output_type": "stream",
     "text": [
      "+-------+----------+\n",
      "|  Month|Passengers|\n",
      "+-------+----------+\n",
      "|1949-03|       132|\n",
      "|1949-06|       135|\n",
      "|1949-07|       148|\n",
      "|1949-08|       148|\n",
      "|1949-09|       136|\n",
      "|1950-02|       126|\n",
      "|1950-03|       141|\n",
      "|1950-04|       135|\n",
      "|1950-05|       125|\n",
      "|1950-06|       149|\n",
      "|1950-07|       170|\n",
      "|1950-08|       170|\n",
      "|1950-09|       158|\n",
      "|1950-10|       133|\n",
      "|1950-12|       140|\n",
      "|1951-01|       145|\n",
      "|1951-02|       150|\n",
      "|1951-03|       178|\n",
      "|1951-04|       163|\n",
      "|1951-05|       172|\n",
      "+-------+----------+\n",
      "only showing top 20 rows\n",
      "\n"
     ]
    }
   ],
   "source": [
    "df_spark.filter(df_spark[\"Passengers\"]>=120).show()"
   ]
  },
  {
   "cell_type": "code",
   "execution_count": 154,
   "id": "9d111e61",
   "metadata": {},
   "outputs": [
    {
     "name": "stdout",
     "output_type": "stream",
     "text": [
      "+-------+----------+\n",
      "|  Month|Passengers|\n",
      "+-------+----------+\n",
      "|1949-03|       132|\n",
      "|1949-06|       135|\n",
      "|1949-07|       148|\n",
      "|1949-08|       148|\n",
      "|1949-09|       136|\n",
      "|1950-02|       126|\n",
      "|1950-03|       141|\n",
      "|1950-04|       135|\n",
      "|1950-05|       125|\n",
      "|1950-06|       149|\n",
      "|1950-10|       133|\n",
      "|1950-12|       140|\n",
      "|1951-01|       145|\n",
      "|1951-02|       150|\n",
      "|1951-11|       146|\n",
      "+-------+----------+\n",
      "\n"
     ]
    }
   ],
   "source": [
    "df_spark.filter((df_spark[\"Passengers\"]>=120) & (df_spark[\"Passengers\"]<=150)).show()"
   ]
  },
  {
   "cell_type": "code",
   "execution_count": 155,
   "id": "7b81ab06",
   "metadata": {},
   "outputs": [
    {
     "name": "stdout",
     "output_type": "stream",
     "text": [
      "+-------+----------+\n",
      "|  Month|Passengers|\n",
      "+-------+----------+\n",
      "|1949-01|       112|\n",
      "|1949-02|       118|\n",
      "|1949-04|         0|\n",
      "|      0|         0|\n",
      "|1949-10|       119|\n",
      "|1949-11|       104|\n",
      "|1949-12|       118|\n",
      "|1950-01|       115|\n",
      "|1950-11|       114|\n",
      "|1953-01|         0|\n",
      "|1953-06|         0|\n",
      "+-------+----------+\n",
      "\n"
     ]
    }
   ],
   "source": [
    "df_spark.filter(~(df_spark[\"Passengers\"]>=120)).show()"
   ]
  },
  {
   "cell_type": "code",
   "execution_count": null,
   "id": "949b59b9",
   "metadata": {},
   "outputs": [],
   "source": []
  },
  {
   "cell_type": "markdown",
   "id": "99729955",
   "metadata": {},
   "source": [
    "# Groupby"
   ]
  },
  {
   "cell_type": "code",
   "execution_count": 177,
   "id": "d96f0362",
   "metadata": {},
   "outputs": [],
   "source": [
    "from pyspark.sql.functions import to_date,month"
   ]
  },
  {
   "cell_type": "code",
   "execution_count": 188,
   "id": "682fede6",
   "metadata": {},
   "outputs": [
    {
     "data": {
      "text/plain": [
       "DataFrame[Month: string, Passengers: int]"
      ]
     },
     "execution_count": 188,
     "metadata": {},
     "output_type": "execute_result"
    }
   ],
   "source": [
    "# importing dataframe in csv\n",
    "df_spark=spark.read.option('header','true').csv('AirPassengers.csv',inferSchema=True)\n",
    "df_spark"
   ]
  },
  {
   "cell_type": "code",
   "execution_count": 192,
   "id": "4b9721d6",
   "metadata": {},
   "outputs": [],
   "source": [
    "df_spark=df_spark.select(to_date(df_spark.Month, 'yyyy-MM').alias('Date'),'Passengers')"
   ]
  },
  {
   "cell_type": "code",
   "execution_count": 193,
   "id": "61a3dfd2",
   "metadata": {},
   "outputs": [
    {
     "name": "stdout",
     "output_type": "stream",
     "text": [
      "+----------+----------+\n",
      "|      Date|Passengers|\n",
      "+----------+----------+\n",
      "|1949-01-01|       112|\n",
      "|1949-02-01|       118|\n",
      "|1949-03-01|       132|\n",
      "|1949-04-01|      null|\n",
      "|1949-04-01|      null|\n",
      "|1949-06-01|       135|\n",
      "|1949-07-01|       148|\n",
      "|1949-08-01|       148|\n",
      "|1949-09-01|       136|\n",
      "|1949-10-01|       119|\n",
      "|1949-11-01|       104|\n",
      "|1949-12-01|       118|\n",
      "|1950-01-01|       115|\n",
      "|1950-02-01|       126|\n",
      "|1950-03-01|       141|\n",
      "|1950-04-01|       135|\n",
      "|1950-05-01|       125|\n",
      "|1950-06-01|       149|\n",
      "|1950-07-01|       170|\n",
      "|1950-08-01|       170|\n",
      "+----------+----------+\n",
      "only showing top 20 rows\n",
      "\n"
     ]
    }
   ],
   "source": [
    "df_spark.show()"
   ]
  },
  {
   "cell_type": "code",
   "execution_count": 194,
   "id": "45a08f5c",
   "metadata": {},
   "outputs": [
    {
     "data": {
      "text/plain": [
       "DataFrame[Date: date, Passengers: int]"
      ]
     },
     "execution_count": 194,
     "metadata": {},
     "output_type": "execute_result"
    }
   ],
   "source": [
    "df_spark"
   ]
  },
  {
   "cell_type": "code",
   "execution_count": 195,
   "id": "f93a46de",
   "metadata": {},
   "outputs": [
    {
     "data": {
      "text/plain": [
       "DataFrame[Date: date, Passengers: int, Month_Number: int]"
      ]
     },
     "execution_count": 195,
     "metadata": {},
     "output_type": "execute_result"
    }
   ],
   "source": [
    "df_spark=df_spark.select('Date','Passengers',month(df_spark.Date).alias('Month_Number'))\n",
    "df_spark"
   ]
  },
  {
   "cell_type": "code",
   "execution_count": 196,
   "id": "c708173f",
   "metadata": {},
   "outputs": [
    {
     "name": "stdout",
     "output_type": "stream",
     "text": [
      "+----------+----------+------------+\n",
      "|      Date|Passengers|Month_Number|\n",
      "+----------+----------+------------+\n",
      "|1949-01-01|       112|           1|\n",
      "|1949-02-01|       118|           2|\n",
      "|1949-03-01|       132|           3|\n",
      "|1949-04-01|      null|           4|\n",
      "|1949-04-01|      null|           4|\n",
      "|1949-06-01|       135|           6|\n",
      "|1949-07-01|       148|           7|\n",
      "|1949-08-01|       148|           8|\n",
      "|1949-09-01|       136|           9|\n",
      "|1949-10-01|       119|          10|\n",
      "|1949-11-01|       104|          11|\n",
      "|1949-12-01|       118|          12|\n",
      "|1950-01-01|       115|           1|\n",
      "|1950-02-01|       126|           2|\n",
      "|1950-03-01|       141|           3|\n",
      "|1950-04-01|       135|           4|\n",
      "|1950-05-01|       125|           5|\n",
      "|1950-06-01|       149|           6|\n",
      "|1950-07-01|       170|           7|\n",
      "|1950-08-01|       170|           8|\n",
      "+----------+----------+------------+\n",
      "only showing top 20 rows\n",
      "\n"
     ]
    }
   ],
   "source": [
    "df_spark.show()"
   ]
  },
  {
   "cell_type": "code",
   "execution_count": 201,
   "id": "c1d346b9",
   "metadata": {},
   "outputs": [
    {
     "data": {
      "text/plain": [
       "DataFrame[Month_Number: int, sum(Passengers): bigint, sum(Month_Number): bigint]"
      ]
     },
     "execution_count": 201,
     "metadata": {},
     "output_type": "execute_result"
    }
   ],
   "source": [
    "df_spark.groupBy('Month_Number').sum()"
   ]
  },
  {
   "cell_type": "code",
   "execution_count": 202,
   "id": "aa608d95",
   "metadata": {},
   "outputs": [
    {
     "name": "stdout",
     "output_type": "stream",
     "text": [
      "+------------+---------------+-----------------+\n",
      "|Month_Number|sum(Passengers)|sum(Month_Number)|\n",
      "+------------+---------------+-----------------+\n",
      "|          12|           3142|              144|\n",
      "|           1|           2705|               12|\n",
      "|           6|           3497|               72|\n",
      "|           3|           3242|               36|\n",
      "|           5|           3141|               55|\n",
      "|           9|           3629|              108|\n",
      "|           4|           3076|               52|\n",
      "|           8|           4213|               96|\n",
      "|           7|           4216|               84|\n",
      "|          10|           3199|              120|\n",
      "|          11|           2794|              132|\n",
      "|           2|           2820|               24|\n",
      "+------------+---------------+-----------------+\n",
      "\n"
     ]
    }
   ],
   "source": [
    "df_spark.groupBy('Month_Number').sum().show()"
   ]
  },
  {
   "cell_type": "code",
   "execution_count": 203,
   "id": "40435ef6",
   "metadata": {},
   "outputs": [
    {
     "name": "stdout",
     "output_type": "stream",
     "text": [
      "+------------+------------------+-----------------+\n",
      "|Month_Number|   avg(Passengers)|avg(Month_Number)|\n",
      "+------------+------------------+-----------------+\n",
      "|          12| 261.8333333333333|             12.0|\n",
      "|           1| 245.9090909090909|              1.0|\n",
      "|           6|317.90909090909093|              6.0|\n",
      "|           3| 270.1666666666667|              3.0|\n",
      "|           5|285.54545454545456|              5.0|\n",
      "|           9| 302.4166666666667|              9.0|\n",
      "|           4| 279.6363636363636|              4.0|\n",
      "|           8| 351.0833333333333|              8.0|\n",
      "|           7| 351.3333333333333|              7.0|\n",
      "|          10| 266.5833333333333|             10.0|\n",
      "|          11|232.83333333333334|             11.0|\n",
      "|           2|             235.0|              2.0|\n",
      "+------------+------------------+-----------------+\n",
      "\n"
     ]
    }
   ],
   "source": [
    "df_spark.groupBy('Month_Number').mean().show()"
   ]
  },
  {
   "cell_type": "code",
   "execution_count": 204,
   "id": "5826104b",
   "metadata": {},
   "outputs": [
    {
     "name": "stdout",
     "output_type": "stream",
     "text": [
      "+------------+-----+\n",
      "|Month_Number|count|\n",
      "+------------+-----+\n",
      "|          12|   12|\n",
      "|           1|   12|\n",
      "|           6|   12|\n",
      "|           3|   12|\n",
      "|           5|   11|\n",
      "|           9|   12|\n",
      "|           4|   13|\n",
      "|           8|   12|\n",
      "|           7|   12|\n",
      "|          10|   12|\n",
      "|          11|   12|\n",
      "|           2|   12|\n",
      "+------------+-----+\n",
      "\n"
     ]
    }
   ],
   "source": [
    "df_spark.groupBy('Month_Number').count().show()"
   ]
  },
  {
   "cell_type": "code",
   "execution_count": 210,
   "id": "37db4786",
   "metadata": {},
   "outputs": [
    {
     "name": "stdout",
     "output_type": "stream",
     "text": [
      "+---------------+\n",
      "|sum(Passengers)|\n",
      "+---------------+\n",
      "|          39674|\n",
      "+---------------+\n",
      "\n"
     ]
    }
   ],
   "source": [
    "df_spark.agg({'Passengers':'sum'}).show()"
   ]
  },
  {
   "cell_type": "code",
   "execution_count": null,
   "id": "3146ef15",
   "metadata": {},
   "outputs": [],
   "source": []
  }
 ],
 "metadata": {
  "kernelspec": {
   "display_name": "Python 3 (ipykernel)",
   "language": "python",
   "name": "python3"
  },
  "language_info": {
   "codemirror_mode": {
    "name": "ipython",
    "version": 3
   },
   "file_extension": ".py",
   "mimetype": "text/x-python",
   "name": "python",
   "nbconvert_exporter": "python",
   "pygments_lexer": "ipython3",
   "version": "3.7.13"
  }
 },
 "nbformat": 4,
 "nbformat_minor": 5
}
